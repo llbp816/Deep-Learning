{
 "cells": [
  {
   "cell_type": "code",
   "execution_count": 7,
   "metadata": {},
   "outputs": [],
   "source": [
    "# Hoang Dieu Linh\n",
    "# ID: 11202127"
   ]
  },
  {
   "cell_type": "markdown",
   "metadata": {},
   "source": [
    "# EX1"
   ]
  },
  {
   "cell_type": "markdown",
   "metadata": {},
   "source": [
    "Tạo ra 1 bộ dataset từ 10 điểm dữ liệu sinh ra từ hàm y = x^2 + noise. Dùng sklearn fit hàm đa thức bậc 9 với dữ liệu trên. Sau đó thêm 100 dữ liệu nữa xem hàm đa thức bậc 9 như nào?\n",
    "Hãy báo cáo MSE và vẽ đồ thị trong hai trường hợp (10 điểm dữ liệu ban đầu và 100 điểm dữ liệu sau)\n",
    "Hiện tượng gì đang xảy ra?\n"
   ]
  },
  {
   "cell_type": "code",
   "execution_count": 8,
   "metadata": {},
   "outputs": [
    {
     "name": "stdout",
     "output_type": "stream",
     "text": [
      "MSE on the original 10 data points: 1.5039748560962763e-08\n",
      "MSE on the additional 100 data points: 179326680333.5967\n"
     ]
    },
    {
     "data": {
      "image/png": "[encoded data removed]",
      "text/plain": [
       "<Figure size 864x432 with 1 Axes>"
      ]
     },
     "metadata": {
      "needs_background": "light"
     },
     "output_type": "display_data"
    }
   ],
   "source": [
    "import numpy as np\n",
    "import matplotlib.pyplot as plt\n",
    "from sklearn.preprocessing import PolynomialFeatures\n",
    "from sklearn.linear_model import LinearRegression\n",
    "from sklearn.metrics import mean_squared_error\n",
    "\n",
    "# Create the initial dataset with 10 data points\n",
    "np.random.seed(0)\n",
    "X_original = np.sort(5 * np.random.rand(10))\n",
    "y_original = X_original**2 + np.random.randn(10)\n",
    "\n",
    "# Create a PolynomialFeatures object to transform the data\n",
    "poly_features = PolynomialFeatures(degree=9)\n",
    "X_poly = poly_features.fit_transform(X_original.reshape(-1, 1))\n",
    "\n",
    "# Use a Linear Regression model\n",
    "model = LinearRegression()\n",
    "model.fit(X_poly, y_original)\n",
    "\n",
    "# Predict on the original data\n",
    "y_pred_original = model.predict(X_poly)\n",
    "\n",
    "# Create an additional 100 data points\n",
    "X_additional = np.sort(5 * np.random.rand(100))\n",
    "y_additional = X_additional**2 + np.random.randn(100)\n",
    "\n",
    "# Transform the new data using PolynomialFeatures\n",
    "X_poly_additional = poly_features.transform(X_additional.reshape(-1, 1))\n",
    "\n",
    "# Predict on the new data\n",
    "y_pred_additional = model.predict(X_poly_additional)\n",
    "\n",
    "# Calculate MSE for both cases\n",
    "mse_original = mean_squared_error(y_original, y_pred_original)\n",
    "mse_additional = mean_squared_error(y_additional, y_pred_additional)\n",
    "\n",
    "print(\"MSE on the original 10 data points:\", mse_original)\n",
    "print(\"MSE on the additional 100 data points:\", mse_additional)\n",
    "\n",
    "# Plot the results\n",
    "plt.figure(figsize=(12, 6))\n",
    "plt.scatter(X_original, y_original, label=\"Original Data (10 points)\", color=\"blue\")\n",
    "plt.scatter(X_additional, y_additional, label=\"New Data (100 points)\", color=\"red\", alpha=0.5)\n",
    "plt.plot(X_original, y_pred_original, label=\"9th-degree Polynomial on Original Data\", color=\"green\")\n",
    "plt.xlabel(\"X\")\n",
    "plt.ylabel(\"y\")\n",
    "plt.legend()\n",
    "plt.show()"
   ]
  },
  {
   "cell_type": "markdown",
   "metadata": {},
   "source": [
    "# EX2"
   ]
  },
  {
   "cell_type": "markdown",
   "metadata": {},
   "source": [
    "Code from scratch\n",
    "Implement hàm tính convolution\n",
    "Input: X, W, stride, padding\n",
    "Output: Y\n",
    "Kiểm tra lại với hàm tính convolution được implement trong thư viện Pytorch\n"
   ]
  },
  {
   "cell_type": "code",
   "execution_count": 9,
   "metadata": {},
   "outputs": [
    {
     "name": "stdout",
     "output_type": "stream",
     "text": [
      "Result of the custom implementation:\n",
      "[[-4. -4.]\n",
      " [-4. -4.]]\n"
     ]
    }
   ],
   "source": [
    "import numpy as np\n",
    "\n",
    "def convolution(X, W, stride=1, padding=0):\n",
    "    # Get the dimensions of the input (X) and the kernel (W)\n",
    "    H, W_in = X.shape\n",
    "    H_k, W_k = W.shape\n",
    "    \n",
    "    # Calculate the output (Y) dimensions based on stride and padding\n",
    "    H_out = (H - H_k + 2 * padding) // stride + 1\n",
    "    W_out = (W_in - W_k + 2 * padding) // stride + 1\n",
    "    \n",
    "    # Initialize the output matrix Y\n",
    "    Y = np.zeros((H_out, W_out))\n",
    "    \n",
    "    # Add padding to X if necessary\n",
    "    if padding > 0:\n",
    "        X_padded = np.pad(X, ((padding, padding), (padding, padding)), mode='constant')\n",
    "    else:\n",
    "        X_padded = X\n",
    "    \n",
    "    # Perform convolution\n",
    "    for i in range(0, H_out, stride):\n",
    "        for j in range(0, W_out, stride):\n",
    "            X_slice = X_padded[i:i+H_k, j:j+W_k]\n",
    "            Y[i//stride, j//stride] = np.sum(X_slice * W)\n",
    "    \n",
    "    return Y\n",
    "\n",
    "# Test with synthetic data\n",
    "X = np.array([[1, 2, 3],\n",
    "              [4, 5, 6],\n",
    "              [7, 8, 9]])\n",
    "\n",
    "W = np.array([[1, 0],\n",
    "              [0, -1]])\n",
    "\n",
    "stride = 1\n",
    "padding = 0\n",
    "\n",
    "Y = convolution(X, W, stride, padding)\n",
    "print(\"Result of the custom implementation:\")\n",
    "print(Y)"
   ]
  },
  {
   "cell_type": "code",
   "execution_count": 10,
   "metadata": {},
   "outputs": [
    {
     "name": "stdout",
     "output_type": "stream",
     "text": [
      "Result from PyTorch:\n",
      "[[-4. -4.]\n",
      " [-4. -4.]]\n"
     ]
    }
   ],
   "source": [
    "import torch\n",
    "import torch.nn.functional as F\n",
    "\n",
    "# Convert matrices X and W to PyTorch tensors\n",
    "X_torch = torch.tensor(X, dtype=torch.float32)\n",
    "W_torch = torch.tensor(W, dtype=torch.float32)\n",
    "X_torch = X_torch.unsqueeze(0).unsqueeze(0)  # Add batch_size and channels dimensions\n",
    "\n",
    "# Use the conv2d function from PyTorch\n",
    "Y_torch = F.conv2d(X_torch, W_torch.unsqueeze(0).unsqueeze(0), stride=stride, padding=padding)\n",
    "\n",
    "print(\"Result from PyTorch:\")\n",
    "print(Y_torch.numpy()[0, 0])\n"
   ]
  },
  {
   "cell_type": "markdown",
   "metadata": {},
   "source": [
    "# EX3"
   ]
  },
  {
   "cell_type": "markdown",
   "metadata": {},
   "source": [
    "Cho dataset CIFAR-10\n",
    "Implement 1 model tương tự VGG16 (có thể nông hơn) với dữ liệu trên sử dụng Pytorch\n",
    "Chỉnh learning rate, vẽ đồ thị loss tương ứng.\n",
    "Chia tập train/test tỉ lệ 80/20, tính các chỉ số accuracy, recall, f1-score trên tập test."
   ]
  },
  {
   "cell_type": "code",
   "execution_count": 15,
   "metadata": {},
   "outputs": [
    {
     "name": "stdout",
     "output_type": "stream",
     "text": [
      "Files already downloaded and verified\n",
      "Files already downloaded and verified\n",
      "Epoch 1/10, Loss: 2.0399\n",
      "Epoch 2/10, Loss: 1.5997\n",
      "Epoch 3/10, Loss: 1.3510\n",
      "Epoch 4/10, Loss: 1.1614\n",
      "Epoch 5/10, Loss: 1.0117\n",
      "Epoch 6/10, Loss: 0.9121\n",
      "Epoch 7/10, Loss: 0.8329\n",
      "Epoch 8/10, Loss: 0.7663\n",
      "Epoch 9/10, Loss: 0.7143\n",
      "Epoch 10/10, Loss: 0.6733\n",
      "Finished Training\n",
      "Accuracy on the test set: 78.13%\n"
     ]
    }
   ],
   "source": [
    "import torch\n",
    "import torch.nn as nn\n",
    "import torch.optim as optim\n",
    "import torchvision\n",
    "import torchvision.transforms as transforms\n",
    "\n",
    "# Define a simplified VGG model\n",
    "class VGG(nn.Module):\n",
    "    def __init__(self):\n",
    "        super(VGG, self).__init__()\n",
    "        self.features = nn.Sequential(\n",
    "            nn.Conv2d(3, 64, kernel_size=3, padding=1),\n",
    "            nn.ReLU(inplace=True),\n",
    "            nn.Conv2d(64, 64, kernel_size=3, padding=1),\n",
    "            nn.ReLU(inplace=True),\n",
    "            nn.MaxPool2d(kernel_size=2, stride=2),\n",
    "            nn.Conv2d(64, 128, kernel_size=3, padding=1),\n",
    "            nn.ReLU(inplace=True),\n",
    "            nn.Conv2d(128, 128, kernel_size=3, padding=1),\n",
    "            nn.ReLU(inplace=True),\n",
    "            nn.MaxPool2d(kernel_size=2, stride=2),\n",
    "        )\n",
    "        self.classifier = nn.Sequential(\n",
    "            nn.Linear(128 * 8 * 8, 512),\n",
    "            nn.ReLU(inplace=True),\n",
    "            nn.Dropout(),\n",
    "            nn.Linear(512, 512),\n",
    "            nn.ReLU(inplace=True),\n",
    "            nn.Dropout(),\n",
    "            nn.Linear(512, 10),  # CIFAR-10 has 10 classes\n",
    "        )\n",
    "\n",
    "    def forward(self, x):\n",
    "        x = self.features(x)\n",
    "        x = x.view(x.size(0), -1)\n",
    "        x = self.classifier(x)\n",
    "        return x\n",
    "\n",
    "# Set up data transformations and data loading\n",
    "transform = transforms.Compose([\n",
    "    transforms.RandomHorizontalFlip(),\n",
    "    transforms.RandomCrop(32, padding=4),\n",
    "    transforms.ToTensor(),\n",
    "    transforms.Normalize((0.5, 0.5, 0.5), (0.5, 0.5, 0.5))\n",
    "])\n",
    "\n",
    "batch_size = 64\n",
    "trainset = torchvision.datasets.CIFAR10(root='./data', train=True, download=True, transform=transform)\n",
    "trainloader = torch.utils.data.DataLoader(trainset, batch_size=batch_size, shuffle=True, num_workers=2)\n",
    "\n",
    "testset = torchvision.datasets.CIFAR10(root='./data', train=False, download=True, transform=transform)\n",
    "testloader = torch.utils.data.DataLoader(testset, batch_size=batch_size, shuffle=False, num_workers=2)\n",
    "\n",
    "# Define the model, loss function, and optimizer\n",
    "device = torch.device(\"cuda\" if torch.cuda.is_available() else \"cpu\")\n",
    "net = VGG().to(device)\n",
    "criterion = nn.CrossEntropyLoss()\n",
    "optimizer = optim.SGD(net.parameters(), lr=0.01, momentum=0.9)\n",
    "\n",
    "# Train the model\n",
    "num_epochs = 10\n",
    "for epoch in range(num_epochs):\n",
    "    running_loss = 0.0\n",
    "    for i, data in enumerate(trainloader, 0):\n",
    "        inputs, labels = data\n",
    "        inputs, labels = inputs.to(device), labels.to(device)\n",
    "        \n",
    "        optimizer.zero_grad()\n",
    "        \n",
    "        outputs = net(inputs)\n",
    "        loss = criterion(outputs, labels)\n",
    "        loss.backward()\n",
    "        optimizer.step()\n",
    "        \n",
    "        running_loss += loss.item()\n",
    "        \n",
    "    epoch_loss = running_loss / len(trainloader)\n",
    "    print(f\"Epoch {epoch+1}/{num_epochs}, Loss: {epoch_loss:.4f}\")\n",
    "\n",
    "print('Finished Training')\n",
    "\n",
    "# Evaluate the model on the test set\n",
    "net.eval()\n",
    "correct = 0\n",
    "total = 0\n",
    "\n",
    "with torch.no_grad():\n",
    "    for data in testloader:\n",
    "        images, labels = data\n",
    "        images, labels = images.to(device), labels.to(device)\n",
    "        \n",
    "        outputs = net(images)\n",
    "        _, predicted = torch.max(outputs, 1)\n",
    "        \n",
    "        total += labels.size(0)\n",
    "        correct += (predicted == labels).sum().item()\n",
    "\n",
    "accuracy = 100 * correct / total\n",
    "print(f\"Accuracy on the test set: {accuracy:.2f}%\")\n"
   ]
  },
  {
   "cell_type": "markdown",
   "metadata": {},
   "source": [
    "# EX4"
   ]
  },
  {
   "cell_type": "code",
   "execution_count": null,
   "metadata": {},
   "outputs": [],
   "source": [
    "Tại sao khi build model, càng những layer phía sau, width và height giảm nhưng depth lại tăng"
   ]
  },
  {
   "cell_type": "markdown",
   "metadata": {},
   "source": [
    "The first few blocks (layers) in the network recognize simple things like edges, colors, and basic shapes. These are like the basic building blocks of your data. As you add more blocks (go deeper into the network), they start recognizing more complex and abstract things. These might be combinations of basic shapes that form more complicated patterns or even entire objects. Deeper blocks look at information that's been put together by the previous blocks. It's like putting together puzzle pieces. The deeper you go, the more pieces you can connect to understand the bigger picture. Adding more blocks also gives the network more tools to work with. It's like having a bigger toolbox. You can build more complicated things with more tools.\n",
    "\n",
    "So, the reason we increase depth in a neural network is to allow it to understand and work with increasingly complex and abstract information in the data. It's like adding more layers of understanding to solve more complex problems. However, you have to be careful not to make it too deep because that can cause other issues, like taking too long to train or making mistakes. So, finding the right depth is a balance."
   ]
  }
 ],
 "metadata": {
  "kernelspec": {
   "display_name": "Python 3",
   "language": "python",
   "name": "python3"
  },
  "language_info": {
   "codemirror_mode": {
    "name": "ipython",
    "version": 3
   },
   "file_extension": ".py",
   "mimetype": "text/x-python",
   "name": "python",
   "nbconvert_exporter": "python",
   "pygments_lexer": "ipython3",
   "version": "3.8.5"
  }
 },
 "nbformat": 4,
 "nbformat_minor": 4
}
